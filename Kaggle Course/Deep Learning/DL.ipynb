{
 "cells": [
  {
   "cell_type": "code",
   "execution_count": 1,
   "metadata": {},
   "outputs": [],
   "source": [
    "import numpy as np\n",
    "from sklearn.model_selection import train_test_split\n",
    "from tensorflow import keras\n",
    "\n",
    "img_rows, img_cols = 28, 28\n",
    "num_classes = 10\n",
    "\n",
    "def prep_data(raw):\n",
    "    y = raw[:, 0]\n",
    "    out_y = keras.utils.to_categorical(y, num_classes)\n",
    "    \n",
    "    x = raw[:,1:]\n",
    "    num_images = raw.shape[0]\n",
    "    out_x = x.reshape(num_images, img_rows, img_cols, 1)\n",
    "    out_x = out_x / 255\n",
    "    return out_x, out_y\n",
    "\n",
    "fashion_file = \"./fashion-mnist_train.csv\"\n",
    "fashion_data = np.loadtxt(fashion_file, skiprows=1, delimiter=',')\n",
    "x, y = prep_data(fashion_data)"
   ]
  },
  {
   "cell_type": "code",
   "execution_count": 2,
   "metadata": {},
   "outputs": [],
   "source": [
    "from tensorflow import keras\n",
    "from tensorflow.keras.models import Sequential\n",
    "from tensorflow.keras.layers import Dense, Flatten, Conv2D\n",
    "\n",
    "# Your Code Here\n",
    "fashion_model = Sequential()"
   ]
  },
  {
   "cell_type": "code",
   "execution_count": 3,
   "metadata": {},
   "outputs": [],
   "source": [
    "fashion_model.add(Conv2D(12,\n",
    "                         activation='relu',\n",
    "                         kernel_size=3,\n",
    "                         input_shape = (img_rows, img_cols, 1)))"
   ]
  },
  {
   "cell_type": "code",
   "execution_count": 4,
   "metadata": {},
   "outputs": [],
   "source": [
    "fashion_model.add(Conv2D(20, activation='relu', kernel_size=3))\n",
    "fashion_model.add(Conv2D(20, activation='relu', kernel_size=3))\n",
    "fashion_model.add(Flatten())\n",
    "fashion_model.add(Dense(100, activation='relu'))\n",
    "fashion_model.add(Dense(10, activation='softmax'))"
   ]
  },
  {
   "cell_type": "code",
   "execution_count": 5,
   "metadata": {},
   "outputs": [],
   "source": [
    "fashion_model.compile(loss='categorical_crossentropy',\n",
    "                      optimizer='adam',\n",
    "                      metrics=['accuracy'])"
   ]
  },
  {
   "cell_type": "code",
   "execution_count": 6,
   "metadata": {},
   "outputs": [
    {
     "name": "stdout",
     "output_type": "stream",
     "text": [
      "Epoch 1/4\n",
      "480/480 [==============================] - 62s 129ms/step - loss: 0.4744 - accuracy: 0.8307 - val_loss: 0.3429 - val_accuracy: 0.8792\n",
      "Epoch 2/4\n",
      "480/480 [==============================] - 69s 144ms/step - loss: 0.3021 - accuracy: 0.8895 - val_loss: 0.3055 - val_accuracy: 0.8902\n",
      "Epoch 3/4\n",
      "480/480 [==============================] - 59s 122ms/step - loss: 0.2487 - accuracy: 0.9079 - val_loss: 0.2952 - val_accuracy: 0.8916\n",
      "Epoch 4/4\n",
      "480/480 [==============================] - 58s 121ms/step - loss: 0.2054 - accuracy: 0.9246 - val_loss: 0.2696 - val_accuracy: 0.9041\n"
     ]
    },
    {
     "data": {
      "text/plain": [
       "<tensorflow.python.keras.callbacks.History at 0x2d0b6ad6e20>"
      ]
     },
     "execution_count": 6,
     "metadata": {},
     "output_type": "execute_result"
    }
   ],
   "source": [
    "fashion_model.fit(x, y, batch_size=100, epochs=4, validation_split=0.2)"
   ]
  },
  {
   "cell_type": "code",
   "execution_count": 7,
   "metadata": {},
   "outputs": [
    {
     "name": "stdout",
     "output_type": "stream",
     "text": [
      "Epoch 1/4\n",
      "480/480 [==============================] - 73s 151ms/step - loss: 0.4952 - accuracy: 0.8245 - val_loss: 0.3449 - val_accuracy: 0.8792\n",
      "Epoch 2/4\n",
      "480/480 [==============================] - 71s 148ms/step - loss: 0.3022 - accuracy: 0.8906 - val_loss: 0.3298 - val_accuracy: 0.8832\n",
      "Epoch 3/4\n",
      "480/480 [==============================] - 68s 142ms/step - loss: 0.2461 - accuracy: 0.9115 - val_loss: 0.2798 - val_accuracy: 0.9007\n",
      "Epoch 4/4\n",
      "480/480 [==============================] - 62s 129ms/step - loss: 0.2067 - accuracy: 0.9245 - val_loss: 0.2608 - val_accuracy: 0.9082\n"
     ]
    }
   ],
   "source": [
    "second_fashion_model = Sequential()\n",
    "second_fashion_model.add(Conv2D(12,\n",
    "                         activation='relu',\n",
    "                         kernel_size=3,\n",
    "                         input_shape = (img_rows, img_cols, 1)))\n",
    "\n",
    "# Changed kernel sizes to be 2\n",
    "second_fashion_model.add(Conv2D(20, activation='relu', kernel_size=2))\n",
    "second_fashion_model.add(Conv2D(20, activation='relu', kernel_size=2))\n",
    "# added an addition Conv2D layer\n",
    "second_fashion_model.add(Conv2D(20, activation='relu', kernel_size=2))\n",
    "second_fashion_model.add(Flatten())\n",
    "second_fashion_model.add(Dense(100, activation='relu'))\n",
    "# It is important not to change the last layer. First argument matches number of classes. Softmax guarantees we get reasonable probabilities\n",
    "second_fashion_model.add(Dense(10, activation='softmax'))\n",
    "\n",
    "second_fashion_model.compile(loss='categorical_crossentropy',\n",
    "                             optimizer='adam',\n",
    "                             metrics=['accuracy'])\n",
    "\n",
    "second_fashion_model.fit(x, y, batch_size=100, epochs=4, validation_split=0.2)\n",
    "\n",
    "\n",
    "# Ensures comptibility with tensorflow 2.0\n",
    "second_fashion_model.history.history['val_acc'] = second_fashion_model.history.history['val_accuracy']"
   ]
  },
  {
   "cell_type": "code",
   "execution_count": null,
   "metadata": {},
   "outputs": [],
   "source": []
  }
 ],
 "metadata": {
  "kernelspec": {
   "display_name": "Python 3",
   "language": "python",
   "name": "python3"
  },
  "language_info": {
   "codemirror_mode": {
    "name": "ipython",
    "version": 3
   },
   "file_extension": ".py",
   "mimetype": "text/x-python",
   "name": "python",
   "nbconvert_exporter": "python",
   "pygments_lexer": "ipython3",
   "version": "3.8.2"
  }
 },
 "nbformat": 4,
 "nbformat_minor": 4
}

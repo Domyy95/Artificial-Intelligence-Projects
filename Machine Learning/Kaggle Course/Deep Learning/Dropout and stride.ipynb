{
 "cells": [
  {
   "cell_type": "markdown",
   "metadata": {},
   "source": [
    "- **Stride lengths**, make your model faster and reduce memory consumption\n",
    "- **Dropout**, combat overfitting"
   ]
  },
  {
   "cell_type": "code",
   "execution_count": 2,
   "metadata": {},
   "outputs": [],
   "source": [
    "import numpy as np\n",
    "from sklearn.model_selection import train_test_split\n",
    "from tensorflow import keras\n",
    "\n",
    "img_rows, img_cols = 28, 28\n",
    "num_classes = 10\n",
    "\n",
    "def prep_data(raw):\n",
    "    y = raw[:, 0]\n",
    "    out_y = keras.utils.to_categorical(y, num_classes)\n",
    "    \n",
    "    x = raw[:,1:]\n",
    "    num_images = raw.shape[0]\n",
    "    out_x = x.reshape(num_images, img_rows, img_cols, 1)\n",
    "    out_x = out_x / 255\n",
    "    return out_x, out_y\n",
    "\n",
    "fashion_file = \"./fashion-mnist_train.csv\"\n",
    "fashion_data = np.loadtxt(fashion_file, skiprows=1, delimiter=',')\n",
    "x, y = prep_data(fashion_data)"
   ]
  },
  {
   "cell_type": "code",
   "execution_count": 3,
   "metadata": {},
   "outputs": [
    {
     "name": "stdout",
     "output_type": "stream",
     "text": [
      "Epoch 1/3\n",
      "3000/3000 [==============================] - 78s 26ms/step - loss: 0.3973 - accuracy: 0.8571 - val_loss: 0.3506 - val_accuracy: 0.8750\n",
      "Epoch 2/3\n",
      "3000/3000 [==============================] - 78s 26ms/step - loss: 0.2503 - accuracy: 0.9085 - val_loss: 0.2516 - val_accuracy: 0.9094\n",
      "Epoch 3/3\n",
      "3000/3000 [==============================] - 72s 24ms/step - loss: 0.1800 - accuracy: 0.9339 - val_loss: 0.2461 - val_accuracy: 0.9140\n"
     ]
    },
    {
     "data": {
      "text/plain": [
       "<tensorflow.python.keras.callbacks.History at 0x1936e9473a0>"
      ]
     },
     "execution_count": 3,
     "metadata": {},
     "output_type": "execute_result"
    }
   ],
   "source": [
    "from tensorflow.keras.models import Sequential\n",
    "from tensorflow.keras.layers import Dense, Flatten, Conv2D, Dropout\n",
    "\n",
    "batch_size = 16\n",
    "\n",
    "fashion_model = Sequential()\n",
    "fashion_model.add(Conv2D(16, kernel_size=(3, 3),\n",
    "                 activation='relu',\n",
    "                 input_shape=(img_rows, img_cols, 1)))\n",
    "fashion_model.add(Conv2D(16, (3, 3), activation='relu'))\n",
    "fashion_model.add(Flatten())\n",
    "fashion_model.add(Dense(128, activation='relu'))\n",
    "fashion_model.add(Dense(num_classes, activation='softmax'))\n",
    "\n",
    "fashion_model.compile(loss=keras.losses.categorical_crossentropy,\n",
    "              optimizer='adam',\n",
    "              metrics=['accuracy'])\n",
    "\n",
    "fashion_model.fit(x, y,\n",
    "          batch_size=batch_size,\n",
    "          epochs=3,\n",
    "          validation_split = 0.2)"
   ]
  },
  {
   "cell_type": "code",
   "execution_count": 4,
   "metadata": {},
   "outputs": [
    {
     "name": "stdout",
     "output_type": "stream",
     "text": [
      "Epoch 1/3\n",
      "3000/3000 [==============================] - 28s 9ms/step - loss: 0.4280 - accuracy: 0.8455 - val_loss: 0.3144 - val_accuracy: 0.8886\n",
      "Epoch 2/3\n",
      "3000/3000 [==============================] - 34s 11ms/step - loss: 0.2862 - accuracy: 0.8938 - val_loss: 0.2775 - val_accuracy: 0.8991\n",
      "Epoch 3/3\n",
      "3000/3000 [==============================] - 36s 12ms/step - loss: 0.2320 - accuracy: 0.9132 - val_loss: 0.2654 - val_accuracy: 0.9038\n"
     ]
    },
    {
     "data": {
      "text/plain": [
       "<tensorflow.python.keras.callbacks.History at 0x193129843d0>"
      ]
     },
     "execution_count": 4,
     "metadata": {},
     "output_type": "execute_result"
    }
   ],
   "source": [
    "fashion_model_1 = Sequential()\n",
    "fashion_model_1.add(Conv2D(16, kernel_size=(3, 3),\n",
    "                 activation='relu',\n",
    "                 input_shape=(img_rows, img_cols, 1)))\n",
    "fashion_model_1.add(Conv2D(16, (3, 3), activation='relu', strides=2))\n",
    "fashion_model_1.add(Flatten())\n",
    "fashion_model_1.add(Dense(128, activation='relu'))\n",
    "fashion_model_1.add(Dense(num_classes, activation='softmax'))\n",
    "\n",
    "fashion_model_1.compile(loss=keras.losses.categorical_crossentropy,\n",
    "              optimizer='adam',\n",
    "              metrics=['accuracy'])\n",
    "\n",
    "fashion_model_1.fit(x, y,\n",
    "          batch_size=batch_size,\n",
    "          epochs=3,\n",
    "          validation_split = 0.2)\n"
   ]
  },
  {
   "cell_type": "code",
   "execution_count": null,
   "metadata": {},
   "outputs": [],
   "source": []
  }
 ],
 "metadata": {
  "kernelspec": {
   "display_name": "Python 3",
   "language": "python",
   "name": "python3"
  },
  "language_info": {
   "codemirror_mode": {
    "name": "ipython",
    "version": 3
   },
   "file_extension": ".py",
   "mimetype": "text/x-python",
   "name": "python",
   "nbconvert_exporter": "python",
   "pygments_lexer": "ipython3",
   "version": "3.8.2"
  }
 },
 "nbformat": 4,
 "nbformat_minor": 4
}
